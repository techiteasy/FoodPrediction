{
  "nbformat": 4,
  "nbformat_minor": 0,
  "metadata": {
    "colab": {
      "name": "A1_VaikunthBhandare_200393449.ipynb",
      "provenance": [],
      "collapsed_sections": []
    },
    "kernelspec": {
      "name": "python3",
      "display_name": "Python 3"
    }
  },
  "cells": [
    {
      "cell_type": "markdown",
      "metadata": {
        "id": "C6nMzW79IodY",
        "colab_type": "text"
      },
      "source": [
        "#Aim\n",
        "<p align=\"justify\">\n",
        "The key objective of this scrapper is to provide a statistical analysis of the current food industry trends on various catagories of foods tweeted by different users around the world. Unhealthy diet has been an increasingly alarming factor influencing the lifestyle and lifespan of an average human. Also, where else to look for latest food news rather than twitter, hence the use of twitter is apt for this scrape. All the \"#food\" tweets are segregated on different catogaries namely Vegetarian, Non-Vegetarian and Junk Food respectively.\n",
        "The scrapper is an moderatively easier implementation using Jupyter notebooks that uses Python and its Libraries.\n",
        "</p>\n",
        " <p align=\"justify\">\n",
        "The goal of this notebook is to provide statistical analysis on food forums or to be used by various marketing agencies that target on healthy food practices.\n",
        "</p>\n",
        "---\n",
        "\n"
      ]
    },
    {
      "cell_type": "markdown",
      "metadata": {
        "id": "31THNbDvMoP6",
        "colab_type": "text"
      },
      "source": [
        "##1.Libraries Used\n",
        "\n",
        "For the scrapper, various python libraries like ***requests*, *urlllib*, *bs4*, *matplotlib*** are used. \n",
        "\n",
        "<p align=\"justify\">\n",
        "The requests library is used to handle all the html requests like in this case to import the twitter page.\n",
        "The urllib is used to handle the requests thrown\n",
        "the bs4 utilises BeautifulSoup which represents html parser data in an organised manner.\n",
        "The matplotlib is used in order to display the desired data in a graphical and more intuitive manner.\n",
        "</p>\n",
        "\n",
        "\n",
        "---\n",
        "\n"
      ]
    },
    {
      "cell_type": "code",
      "metadata": {
        "id": "QCNhKLyC-pd6",
        "colab_type": "code",
        "colab": {}
      },
      "source": [
        "import requests\n",
        "import urllib.request\n",
        "from bs4 import BeautifulSoup\n",
        "import matplotlib.pyplot as plt"
      ],
      "execution_count": 0,
      "outputs": []
    },
    {
      "cell_type": "markdown",
      "metadata": {
        "id": "1c2PoJTzNdWM",
        "colab_type": "text"
      },
      "source": [
        "##2.Importing \n",
        "The below ***url*** string imports the most recent tweets regarding to the \"#food\" discussions from the twitter website. And the ***response*** string will store the url's data.\n",
        "\n",
        "\n",
        "---\n",
        "\n"
      ]
    },
    {
      "cell_type": "code",
      "metadata": {
        "id": "OPJ6M_Oe_JNB",
        "colab_type": "code",
        "colab": {}
      },
      "source": [
        "foodtweet_url='https://twitter.com/TwitterFood?lang=en'\n",
        "\n",
        "response = requests.get(foodtweet_url)"
      ],
      "execution_count": 0,
      "outputs": []
    },
    {
      "cell_type": "markdown",
      "metadata": {
        "id": "6oSYRJcdNr_X",
        "colab_type": "text"
      },
      "source": [
        "##3.Extraction Steps\n",
        "\n",
        "To extract and present the data in a presentable manner as well as Steps to extract & data.\n",
        "\n",
        "    a. Extracting tweets from the url\n",
        "  \n",
        "    b. Defining Catagoric Library\n",
        "  \n",
        "    c. Distinctive analysis of data according to the Catagorical Library\n",
        "    \n",
        "\n",
        "---\n",
        "\n",
        "\n",
        "###3.a. Extracting tweets from url\n",
        "<p align=\"justify\"> In the below snippet tweet_box is used to pick the tweets using their respective html parser elements.\n",
        "The HTML parser is chosen using the inspect element option on the actual twitter page as shown in fig 1.1 below in order for accurate tweet extraction.</p>\n",
        "\n",
        "![alt text](https://imgshare.io/images/2019/06/04/S1.png)\n",
        "<p align=\"center\">Fig 1.1 : Snippet HTML Parser details.</p>\n",
        "\n",
        "\n",
        "                                \n",
        "\n",
        "\n",
        "\n",
        "---\n",
        "\n"
      ]
    },
    {
      "cell_type": "code",
      "metadata": {
        "id": "yOigbO4OD80q",
        "colab_type": "code",
        "colab": {}
      },
      "source": [
        "soup = BeautifulSoup(response.text, \"html.parser\")\n",
        "\n",
        "tweet_box =  soup.findAll(\"p\", attrs={\"class\": \"TweetTextSize TweetTextSize--normal js-tweet-text tweet-text\"})"
      ],
      "execution_count": 0,
      "outputs": []
    },
    {
      "cell_type": "markdown",
      "metadata": {
        "id": "V0ma8xKufu9y",
        "colab_type": "text"
      },
      "source": [
        "\n",
        "The below scrapper will create a ***tagitems*** string which will store all the tweets in a string format which will be later used in comparision with the library created on various food items catagories.\n",
        "\n",
        "---\n",
        "\n"
      ]
    },
    {
      "cell_type": "code",
      "metadata": {
        "id": "l2VIE3rVHM44",
        "colab_type": "code",
        "colab": {}
      },
      "source": [
        "tagitems = ''\n",
        "\n",
        "for tags in tweet_box:\n",
        "  \n",
        "  tagitems=tagitems+tags.text  "
      ],
      "execution_count": 0,
      "outputs": []
    },
    {
      "cell_type": "markdown",
      "metadata": {
        "id": "zA7mv_NMS9Hc",
        "colab_type": "text"
      },
      "source": [
        "###3.b. Defining Catagorical Library\n",
        "The most common/widely used food items are listed in their respective catagories.\n",
        "\n",
        "**E.g.** Vegetarian list will include all veg items like milk, various fruits, vegetables, etc.\n",
        "The Non-Vegetatrian list will include items like chicken, steak, etc and the Junk Food list will include rest of unhealthy items like bread, cheese, cookies, mayonaise, etc.\n",
        "\n",
        "This will help in catagorical segregation of tweets by finding the keywords mentioned in the catagoric library from the tweet.\n",
        "\n",
        "---\n",
        "\n"
      ]
    },
    {
      "cell_type": "code",
      "metadata": {
        "id": "BX_W9PgeWPtn",
        "colab_type": "code",
        "colab": {}
      },
      "source": [
        "Vegetarian_list = ['fruit', 'dairy', 'milk' , 'rum', 'raisin', 'honey', 'oats', 'strawberry', 'raspberry', 'apple', 'orange', 'brocolli']\n",
        "\n",
        "NonVeg_list = ['fish', 'meat' , 'steak', 'pepperoni', 'salami', 'chicken',':(\\nSushi:', 'prawns', 'lamb', 'mutton']\n",
        "\n",
        "JunkFood_list = ['icecream', 'cheese', 'cheeses', 'cheez' , 'cookies', 'tacos', 'burger', 'fries', 'pizza', 'mayo', 'chocolate', 'snack']\n",
        "\n",
        "veg_items = 0\n",
        "nonveg_items = 0\n",
        "junkfood_items = 0"
      ],
      "execution_count": 0,
      "outputs": []
    },
    {
      "cell_type": "markdown",
      "metadata": {
        "id": "RCMSmneFV5Yz",
        "colab_type": "text"
      },
      "source": [
        "###3.c. Distinctive Analysis of data according to the Catagorical Library\n",
        "\n",
        "To properly distinguish the various food catagories namely Vegeetarian food, Non-Vegetarian Food and Junk Food from the actual tweets, a catagoric keyword extraction operation has to be performed on the tweet using the desired keywords.\n",
        "\n",
        "The below snippet extracts the lists of items with respect to their catagory and generates a count of total number of keywords according to the library.\n",
        "\n",
        "\n",
        "---\n",
        "\n"
      ]
    },
    {
      "cell_type": "code",
      "metadata": {
        "id": "YXW3NArZ2Nao",
        "colab_type": "code",
        "colab": {}
      },
      "source": [
        "veg_count = len(list(filter(lambda x: x in Vegetarian_list, tagitems.split(' '))))\n",
        "\n",
        "nonveg_count = len(list(filter(lambda x: x in NonVeg_list, tagitems.split(' '))))\n",
        "\n",
        "junkfood_count = len(list(filter(lambda x: x in JunkFood_list, tagitems.split(' '))))"
      ],
      "execution_count": 0,
      "outputs": []
    },
    {
      "cell_type": "markdown",
      "metadata": {
        "id": "469hvrlbeWNV",
        "colab_type": "text"
      },
      "source": [
        "##4.Results\n",
        "\n",
        "By extracting the count of items according to their respective catagory of food items like Veg foods, Non veg foods and Junk food, a statistical analysis can been seen that shows the number of food items tweeted as per their catagories.\n",
        "\n",
        "A graphical pie chart shown below in fig 4.1 illustrates on how much each of the catagories are used in the tweets.\n",
        "\n"
      ]
    },
    {
      "cell_type": "code",
      "metadata": {
        "id": "UeRXsVyf8hpd",
        "colab_type": "code",
        "outputId": "b564a69f-0948-4b64-ecf5-67f0a8c1485f",
        "colab": {
          "base_uri": "https://localhost:8080/",
          "height": 336
        }
      },
      "source": [
        "print(\"Count of Food items Catagorically:\")\n",
        "print(\"Vegetarian Food: \", veg_count)\n",
        "print(\"Non-Vegetarian Food: \", nonveg_count)\n",
        "print(\"Junk Food: \", junkfood_count)\n",
        "\n",
        "\n",
        "\n",
        "catagory_labels = 'Non-Vegetarian Food', 'Junk Food', 'Vegetarian Food'\n",
        "catagory_count = [nonveg_count, junkfood_count, veg_count]\n",
        "highlighting_catagory = (0, 0.1, 0)\n",
        "\n",
        "fig4, ax = plt.subplots()\n",
        "ax.pie(catagory_count, explode=highlighting_catagory, labels=catagory_labels, autopct='%1.1f%%',\n",
        "        shadow=True, startangle=90)\n",
        "\n",
        "ax.axis('equal')\n",
        "plt.title(\"Graphical Representation of Food Catagories\")\n",
        "plt.show()\n",
        "\n",
        "\n",
        "\n",
        "\n"
      ],
      "execution_count": 0,
      "outputs": [
        {
          "output_type": "stream",
          "text": [
            "Count of Food items Catagorically:\n",
            "Vegetarian Food:  3\n",
            "Non-Vegetarian Food:  1\n",
            "Junk Food:  6\n"
          ],
          "name": "stdout"
        },
        {
          "output_type": "display_data",
          "data": {
            "image/png": "[encoded data removed]",
            "text/plain": [
              "<Figure size 432x288 with 1 Axes>"
            ]
          },
          "metadata": {
            "tags": []
          }
        }
      ]
    },
    {
      "cell_type": "markdown",
      "metadata": {
        "id": "6_wJMZrxe2uE",
        "colab_type": "text"
      },
      "source": [
        "##5.Conclusion\n",
        "<p align=\"justify\">\n",
        "The statistical comparision between the various catagories demnstrates that the Junk food items are the highest tweeted food where as vegetarian food items come second in line and non-vegetarian items are the least tweeted food items in the #food discussions.\n",
        "This alarming results of Junk Food items on the above demonstrated results show on how the current food industry is leading on various food trend and various twitter post demonstrate users actually think about it. </p>"
      ]
    }
  ]
}